{
  "nbformat": 4,
  "nbformat_minor": 0,
  "metadata": {
    "colab": {
      "provenance": []
    },
    "kernelspec": {
      "name": "python3",
      "display_name": "Python 3"
    },
    "language_info": {
      "name": "python"
    }
  },
  "cells": [
    {
      "cell_type": "code",
      "execution_count": 79,
      "metadata": {
        "colab": {
          "base_uri": "https://localhost:8080/"
        },
        "id": "U9k8eK_y57Qr",
        "outputId": "725efbec-4657-40b9-ce1a-e283226c36e5"
      },
      "outputs": [
        {
          "output_type": "stream",
          "name": "stderr",
          "text": [
            "[nltk_data] Downloading package omw-1.4 to /root/nltk_data...\n",
            "[nltk_data]   Package omw-1.4 is already up-to-date!\n"
          ]
        }
      ],
      "source": [
        "import numpy as np\n",
        "import nltk #natural languauge toolkit\n",
        "nltk.download('omw-1.4')\n",
        "import string #so that bot can proess and handle string in python\n",
        "import random #\n"
      ]
    },
    {
      "cell_type": "code",
      "source": [
        "f=open('TT.txt','r',errors='ignore')\n",
        "raw_doc=f.read()\n",
        "raw_doc=raw_doc.lower() #to convert every text to lowercase\n",
        "nltk.download('punkt') #using the punkt tokenizer to divide the sentence is small pieces\n",
        "nltk.download('wordnet') #using the wordnet dictionary\n",
        "sent_token= nltk.sent_tokenize(raw_doc) #converting documents to list of sentnces\n",
        "word_token = nltk.word_tokenize(raw_doc) # converts doc to list of words"
      ],
      "metadata": {
        "colab": {
          "base_uri": "https://localhost:8080/"
        },
        "id": "TIwBp2q16Zqe",
        "outputId": "f78bbca0-d6df-4922-f5a3-8477f4440ee8"
      },
      "execution_count": 80,
      "outputs": [
        {
          "output_type": "stream",
          "name": "stderr",
          "text": [
            "[nltk_data] Downloading package punkt to /root/nltk_data...\n",
            "[nltk_data]   Package punkt is already up-to-date!\n",
            "[nltk_data] Downloading package wordnet to /root/nltk_data...\n",
            "[nltk_data]   Package wordnet is already up-to-date!\n"
          ]
        }
      ]
    },
    {
      "cell_type": "code",
      "source": [
        "sent_token[:2]"
      ],
      "metadata": {
        "colab": {
          "base_uri": "https://localhost:8080/"
        },
        "id": "MuTruNQO6ZoZ",
        "outputId": "14076fb9-dfbf-4727-e5b3-9cbfc78bca8c"
      },
      "execution_count": 81,
      "outputs": [
        {
          "output_type": "execute_result",
          "data": {
            "text/plain": [
              "['machine learning (ml) is a field of inquiry devoted to understanding and building methods that \"learn\" – that is, methods that leverage data to improve performance on some set of tasks.',\n",
              " '[1] it is seen as a part of artificial intelligence.']"
            ]
          },
          "metadata": {},
          "execution_count": 81
        }
      ]
    },
    {
      "cell_type": "code",
      "source": [
        "word_token[:2]"
      ],
      "metadata": {
        "colab": {
          "base_uri": "https://localhost:8080/"
        },
        "id": "W50fzgyJ6Zmk",
        "outputId": "d73bd201-0bf4-4643-ceb8-e361ecb98b7a"
      },
      "execution_count": 82,
      "outputs": [
        {
          "output_type": "execute_result",
          "data": {
            "text/plain": [
              "['machine', 'learning']"
            ]
          },
          "metadata": {},
          "execution_count": 82
        }
      ]
    },
    {
      "cell_type": "code",
      "source": [
        "lemmer = nltk.stem.WordNetLemmatizer() #wordnet is semantically oriented dictionary of english included in nltk.\n",
        "def LemTokens(tokens):\n",
        "  return[lemmer.lemmatize(token)for token in tokens] #grouping togather different influcted forms of word so they can be analyzed as asingle item\n",
        "remove_punct_dict= dict((ord(punct), None)for punct in string.punctuation) #removes punctuation from corpus file\n",
        "def LemNormalize(text):\n",
        "  return LemTokens(nltk.word_tokenize(text.lower().translate(remove_punct_dict)))\n"
      ],
      "metadata": {
        "id": "BY0XsL6Z6Zjc"
      },
      "execution_count": 83,
      "outputs": []
    },
    {
      "cell_type": "code",
      "source": [
        "greet_inputs = (\"hello\",\"hi\",\"hey\",\"greetings\",\"namaste\",\"bonjour\",\"ola\")\n",
        "greet_responses = (\"hello\",\"hi\",\"hey\",\"greetings\",\"Namaste !\",\"Bonjour !\",\"Ola !\",\"Hey, Iam glad you are talking to me\")\n",
        "def greet(sentence):\n",
        "  for word in sentence.split():\n",
        "    if word.lower() in greet_inputs: #if the words in greetings are used \n",
        "      return random.choice(greet_responses) #greet with random replies that are given in code\n",
        "\n"
      ],
      "metadata": {
        "id": "QS9rMUaG6ZhX"
      },
      "execution_count": 84,
      "outputs": []
    },
    {
      "cell_type": "code",
      "source": [
        "from sklearn.feature_extraction.text import TfidfVectorizer #using term frequency and inverse document frequency vectorizer to get frequent and non frequent words and adding them\n",
        "from sklearn.metrics.pairwise import cosine_similarity"
      ],
      "metadata": {
        "id": "5ERYce-g6ZfB"
      },
      "execution_count": 85,
      "outputs": []
    },
    {
      "cell_type": "code",
      "source": [
        "def response(user_response):\n",
        "  robo1_response=''\n",
        "  TfidfVec = TfidfVectorizer(tokenizer=LemNormalize, stop_words='english')\n",
        "  tfidf =TfidfVec.fit_transform(sent_token)\n",
        "  vals = cosine_similarity(tfidf[-1],tfidf)\n",
        "  idx=vals.argsort()[0][-2]\n",
        "  flat = vals.flatten()\n",
        "  flat.sort()\n",
        "  req_tfidf = flat[-2]\n",
        "  if (req_tfidf==0): #when word freq is 0 it gives a response\n",
        "    robo1_response = robo1_response+\"Iam sorry, Iam still learning so Iam not able to generate an answer to you\"\n",
        "    return robo1_response\n",
        "  else:\n",
        "      robo1_response = robo1_response+sent_token[idx]\n",
        "      return robo1_response\n",
        "\n",
        "\n",
        "\n"
      ],
      "metadata": {
        "id": "v4VrxFBj6Zct"
      },
      "execution_count": 88,
      "outputs": []
    },
    {
      "cell_type": "code",
      "source": [],
      "metadata": {
        "id": "ATaPR7cqP8C8"
      },
      "execution_count": null,
      "outputs": []
    },
    {
      "cell_type": "code",
      "source": [
        "flag = True\n",
        "print(\"ARIEBOT: Hello ! Its ARIEBOT . Lets have a conversation.\")\n",
        "while(flag==True):\n",
        "  user_response = input()\n",
        "  user_response = user_response.lower()\n",
        "  if(user_response!=\"Bye!\"):\n",
        "    if(user_response=='thanks'or user_response == \"thankyou\"):\n",
        "      flag=False\n",
        "      print(\"ARIEBOT: You are welcome !\")\n",
        "    else:\n",
        "      if(greet(user_response)!=None):\n",
        "        print(\"ARIEBOT: \"+greet(user_response))\n",
        "      else:\n",
        "        sent_token.append(user_response)\n",
        "        word_token=word_token+nltk.word_tokenize(user_response)\n",
        "        final_words=list(set(word_token))\n",
        "        print(\"ARIEBOT: \",end=\"\") \n",
        "        print(response(user_response))\n",
        "        sent_token.remove(user_response)\n",
        "  else:\n",
        "    flag=False\n",
        "    print(\"ARIEBOT: Goodbye <3\")\n",
        "\n",
        "      \n",
        "\n"
      ],
      "metadata": {
        "colab": {
          "base_uri": "https://localhost:8080/"
        },
        "id": "-Ik0vR_SEatE",
        "outputId": "5ac663b0-7a0a-4df2-c56b-ea2de07f7e14"
      },
      "execution_count": null,
      "outputs": [
        {
          "output_type": "stream",
          "name": "stdout",
          "text": [
            "ARIEBOT: Hello ! Its ARIEBOT . Lets have a conversation. Also, you can exit anytime tying Bye!\n"
          ]
        }
      ]
    },
    {
      "cell_type": "code",
      "source": [],
      "metadata": {
        "id": "xuXB0WZwM8Bj"
      },
      "execution_count": null,
      "outputs": []
    }
  ]
}